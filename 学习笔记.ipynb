{
 "cells": [
  {
   "cell_type": "code",
   "execution_count": 24,
   "metadata": {},
   "outputs": [],
   "source": [
    "import torch\n",
    "import numpy as np"
   ]
  },
  {
   "cell_type": "code",
   "execution_count": 8,
   "metadata": {},
   "outputs": [],
   "source": [
    "wh = torch.randn(140,1433)"
   ]
  },
  {
   "cell_type": "code",
   "execution_count": 9,
   "metadata": {},
   "outputs": [
    {
     "data": {
      "text/plain": [
       "tensor([[-0.9436, -0.3500,  0.0346,  ..., -0.4395,  1.7364, -0.0094],\n",
       "        [ 1.2907,  0.9712, -1.9833,  ...,  1.3570, -1.2452,  1.1773],\n",
       "        [ 1.4754, -0.2137, -1.0385,  ..., -1.3449, -2.1938,  2.0279],\n",
       "        ...,\n",
       "        [ 0.8123,  0.3519, -0.0330,  ..., -0.1579, -1.4995,  1.2701],\n",
       "        [ 0.1121,  0.8316, -0.9487,  ...,  0.0950, -0.4085,  0.4422],\n",
       "        [ 0.0072, -0.8760, -0.6128,  ...,  0.5502,  0.6277, -0.3290]])"
      ]
     },
     "execution_count": 9,
     "metadata": {},
     "output_type": "execute_result"
    }
   ],
   "source": [
    "wh"
   ]
  },
  {
   "cell_type": "markdown",
   "metadata": {},
   "source": [
    "## torch.repeat_interleave(N, dim)\n",
    "    这个方法是按dim维度进行挨个复制N倍\n",
    "    在这里wh.repeat_interleave(140, dim=0)，就是在行维度上，挨个对每行复制140倍，"
   ]
  },
  {
   "cell_type": "code",
   "execution_count": 10,
   "metadata": {},
   "outputs": [
    {
     "data": {
      "text/plain": [
       "tensor([[-0.9436, -0.3500,  0.0346,  ..., -0.4395,  1.7364, -0.0094],\n",
       "        [-0.9436, -0.3500,  0.0346,  ..., -0.4395,  1.7364, -0.0094],\n",
       "        [-0.9436, -0.3500,  0.0346,  ..., -0.4395,  1.7364, -0.0094],\n",
       "        ...,\n",
       "        [ 0.0072, -0.8760, -0.6128,  ...,  0.5502,  0.6277, -0.3290],\n",
       "        [ 0.0072, -0.8760, -0.6128,  ...,  0.5502,  0.6277, -0.3290],\n",
       "        [ 0.0072, -0.8760, -0.6128,  ...,  0.5502,  0.6277, -0.3290]])"
      ]
     },
     "execution_count": 10,
     "metadata": {},
     "output_type": "execute_result"
    }
   ],
   "source": [
    "wh.repeat_interleave(140, dim=0)"
   ]
  },
  {
   "cell_type": "code",
   "execution_count": 17,
   "metadata": {},
   "outputs": [
    {
     "data": {
      "text/plain": [
       "torch.Size([19600, 1433])"
      ]
     },
     "execution_count": 17,
     "metadata": {},
     "output_type": "execute_result"
    }
   ],
   "source": [
    "wh.repeat_interleave(140, dim=0).size()"
   ]
  },
  {
   "cell_type": "markdown",
   "metadata": {},
   "source": [
    "## torch.repeat(a,b,c)\n",
    "    这个方法是在c->b->a的维度上，分别对整个张量进行复制，先在dim=2上复制c倍\n",
    "    再在dim=1上复制b倍，最后在dim=0上复制a倍\n",
    "    在这里wh.repeat(140,1)是先在列上复制一倍，再在行上复制140倍，等于说是把140个wh在行维度做concat"
   ]
  },
  {
   "cell_type": "code",
   "execution_count": 15,
   "metadata": {},
   "outputs": [
    {
     "data": {
      "text/plain": [
       "tensor([[-0.9436, -0.3500,  0.0346,  ..., -0.4395,  1.7364, -0.0094],\n",
       "        [ 1.2907,  0.9712, -1.9833,  ...,  1.3570, -1.2452,  1.1773],\n",
       "        [ 1.4754, -0.2137, -1.0385,  ..., -1.3449, -2.1938,  2.0279],\n",
       "        ...,\n",
       "        [ 0.8123,  0.3519, -0.0330,  ..., -0.1579, -1.4995,  1.2701],\n",
       "        [ 0.1121,  0.8316, -0.9487,  ...,  0.0950, -0.4085,  0.4422],\n",
       "        [ 0.0072, -0.8760, -0.6128,  ...,  0.5502,  0.6277, -0.3290]])"
      ]
     },
     "execution_count": 15,
     "metadata": {},
     "output_type": "execute_result"
    }
   ],
   "source": [
    "wh.repeat(140,1)"
   ]
  },
  {
   "cell_type": "code",
   "execution_count": 16,
   "metadata": {},
   "outputs": [
    {
     "data": {
      "text/plain": [
       "torch.Size([19600, 1433])"
      ]
     },
     "execution_count": 16,
     "metadata": {},
     "output_type": "execute_result"
    }
   ],
   "source": [
    "wh.repeat(140,1).size()"
   ]
  },
  {
   "cell_type": "code",
   "execution_count": 23,
   "metadata": {},
   "outputs": [],
   "source": [
    "zero_vec=-9e15*torch.ones_like(wh)"
   ]
  },
  {
   "cell_type": "code",
   "execution_count": 22,
   "metadata": {},
   "outputs": [
    {
     "data": {
      "text/plain": [
       "-9000000000000000.0"
      ]
     },
     "execution_count": 22,
     "metadata": {},
     "output_type": "execute_result"
    }
   ],
   "source": [
    "np.where(np.ones"
   ]
  },
  {
   "attachments": {
    "image-2.png": {
     "image/png": "[encoded data removed]"
    },
    "image.png": {
     "image/png": "[encoded data removed]"
    }
   },
   "cell_type": "markdown",
   "metadata": {},
   "source": [
    "## ELU函数，\n",
    "    融合了sigmoid和ReLU，左侧具有软饱和性，右侧无饱和性\n",
    "    右侧线性部分使得ELU能够缓解梯度消失，而左侧软饱能够让ELU对输入变化或噪声更鲁棒\n",
    "    ELU的输出均值接近于零，所以收敛速度更快\n",
    "    在 ImageNet上，不加 Batch Normalization 30 层以上的 ReLU 网络会无法收敛，PReLU网络在MSRA的Fan-in （caffe ）初始化下会发散，而 ELU 网络在Fan-in/Fan-out下都能收敛\n",
    "![image.png](attachment:image.png)\n",
    "![image-2.png](attachment:image-2.png)"
   ]
  },
  {
   "cell_type": "code",
   "execution_count": null,
   "metadata": {},
   "outputs": [],
   "source": []
  }
 ],
 "metadata": {
  "kernelspec": {
   "display_name": "Python pytorch",
   "language": "python",
   "name": "pytorch"
  },
  "language_info": {
   "codemirror_mode": {
    "name": "ipython",
    "version": 3
   },
   "file_extension": ".py",
   "mimetype": "text/x-python",
   "name": "python",
   "nbconvert_exporter": "python",
   "pygments_lexer": "ipython3",
   "version": "3.8.8"
  }
 },
 "nbformat": 4,
 "nbformat_minor": 4
}
